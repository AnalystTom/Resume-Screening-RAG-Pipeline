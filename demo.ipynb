{
 "cells": [
  {
   "cell_type": "code",
   "execution_count": 2,
   "metadata": {},
   "outputs": [],
   "source": [
    "import os\n",
    "\n",
    "PATH = \"F:\\Program Files\\\\transformers-cache\"\n",
    "\n",
    "os.environ['HF_HOME'] = PATH\n",
    "os.environ['HF_DATASETS_CACHE'] = PATH"
   ]
  },
  {
   "cell_type": "code",
   "execution_count": 3,
   "metadata": {},
   "outputs": [],
   "source": [
    "from transformers import AutoTokenizer, AutoModel, AutoModelForCausalLM, AutoModelForQuestionAnswering\n",
    "from transformers import pipeline\n",
    "from transformers import BitsAndBytesConfig\n",
    "from langchain.llms.huggingface_pipeline import HuggingFacePipeline\n",
    "from langchain.prompts import ChatPromptTemplate\n",
    "from langchain_community.vectorstores import FAISS\n",
    "from langchain_core.output_parsers import StrOutputParser\n",
    "from langchain_core.prompts import ChatPromptTemplate\n",
    "from langchain_core.runnables import RunnablePassthrough\n",
    "\n",
    "from operator import itemgetter\n",
    "\n",
    "import torch"
   ]
  },
  {
   "cell_type": "code",
   "execution_count": 4,
   "metadata": {},
   "outputs": [],
   "source": [
    "nf4_config = BitsAndBytesConfig(\n",
    "   load_in_4bit=True,\n",
    "   bnb_4bit_quant_type=\"nf4\",\n",
    "   bnb_4bit_use_double_quant=True,\n",
    "   bnb_4bit_compute_dtype=torch.bfloat16\n",
    ")"
   ]
  },
  {
   "cell_type": "code",
   "execution_count": 5,
   "metadata": {},
   "outputs": [],
   "source": [
    "model_name = \"F:\\Program Files\\\\transformers-cache\\models--meta-llama--Llama-2-7b-chat-hf\\snapshots\\c1b0db933684edbfe29a06fa47eb19cc48025e93\"\n",
    "tokenizer = AutoTokenizer.from_pretrained(model_name)"
   ]
  },
  {
   "cell_type": "code",
   "execution_count": 6,
   "metadata": {},
   "outputs": [
    {
     "name": "stdout",
     "output_type": "stream",
     "text": [
      "bin f:\\Program Files\\Python\\Lib\\site-packages\\bitsandbytes\\libbitsandbytes_cuda118.dll\n"
     ]
    },
    {
     "data": {
      "application/vnd.jupyter.widget-view+json": {
       "model_id": "5d2c9f86491543438d04ca2a6d355cba",
       "version_major": 2,
       "version_minor": 0
      },
      "text/plain": [
       "Loading checkpoint shards:   0%|          | 0/2 [00:00<?, ?it/s]"
      ]
     },
     "metadata": {},
     "output_type": "display_data"
    }
   ],
   "source": [
    "model = AutoModelForCausalLM.from_pretrained(model_name, quantization_config=nf4_config)"
   ]
  },
  {
   "cell_type": "code",
   "execution_count": 7,
   "metadata": {},
   "outputs": [],
   "source": [
    "question_answerer = pipeline(\n",
    "    \"text-generation\",\n",
    "    model=model,\n",
    "    tokenizer=tokenizer,\n",
    "    max_new_tokens=512\n",
    ")\n",
    "\n",
    "llm = HuggingFacePipeline(\n",
    "    pipeline=question_answerer,\n",
    "    model_kwargs={\"temperature\": 0.1},\n",
    ")"
   ]
  },
  {
   "cell_type": "code",
   "execution_count": 8,
   "metadata": {},
   "outputs": [],
   "source": [
    "doc1 = \"\"\"\n",
    "Applicant number 1: \n",
    "Areas of Interest Deep Learning, Control System Design, Programming in-Python, Electric Machinery, Web Development, Analytics Technical Activities Hindustan Aeronautics Limited, Bangalore \n",
    "- For 4 weeks under the guidance of Mr. Satish, Senior Engineer in the hangar of Mirage 2000 fighter aircraft Technical Skills Programming Matlab, Python and Java, LabView, Python WebFrameWork-Django, Flask, LTSPICE-intermediate Languages and and MIPOWER-intermediate, Github (GitBash), Jupyter Notebook, Xampp, MySQL-Basics, Python Software Packages Interpreters-Anaconda, Python2, Python3, Pycharm, Java IDE-Eclipse Operating Systems Windows, Ubuntu, Debian-Kali Linux Education Details \n",
    "January 2019 B.Tech. Electrical and Electronics Engineering  Manipal Institute of Technology\n",
    "\n",
    "DATA SCIENCE AND ELECTRICAL ENTHUSIAST\n",
    "Skill Details \n",
    "Data Analysis- Exprience - Less than 1 year months\n",
    "Sql- Exprience - Less than 1 year monthsCompany Details \n",
    "company - THEMATHCOMPANY\n",
    "description - I am currently working with a Casino based operator(name not to be disclosed) in Macau.I need to segment the customers who visit their property based on the value the patrons bring into the company.Basically prove that the segmentation can be done in much better way than the current system which they have with proper numbers to back it up.Henceforth they can implement target marketing strategy to attract their customers who add value to the business.\n",
    "\"\"\"\n",
    "\n",
    "doc2 = \"\"\"Applicant number 2: \n",
    "Education Details \n",
    " BCA   Vinayaka Missions University\n",
    "Operations Manager \n",
    "\n",
    "Operations Manager\n",
    "Skill Details \n",
    "Operations Management- Exprience - Less than 1 year monthsCompany Details \n",
    "company - BNY Mellon International Operations (India) Pvt. Ltd\n",
    "description - Organization: BNY Mellon International Operations (India) Pvt. Ltd.: Sept 2009\n",
    "BNY Mellon provides a broad range of products and services in the areas of Investment Management, Investment Services and Treasury Services. Our customers are institutions, corporations, and high-net-worth individuals, as well as consultants and advisors who work with them.\n",
    "\n",
    "The responsibilities included but were not limited to:\n",
    "- Understanding expectations, technology, documentation, assessing capacity & skillset\n",
    "- Executing transition plan (process timelines, SLAs, Escalation Matrix etc.)\n",
    "- Ensuring smooth go live and regular review meetings post transition.\n",
    "- Conducted analysis on projects to determine ROI and viability of project undertaking before presenting it to the Senior Operations Directors.\n",
    "\"\"\"\n",
    "\n",
    "doc3 =\"\"\"Applicant number 3:\n",
    "Personal Skills: Ability to quickly grasp technical aspects and willingness to learn High energy levels & Result oriented. Education Details \n",
    "\n",
    "January 2018 Master of Engineering Madhya Pradesh Truba Institute of Engineering & Information Technology\n",
    "January 2003 M.tech Thesis Detail BMCH School in Ganj basoda\n",
    "Data science \n",
    "\n",
    "I have 10 years experience in Data Science. \n",
    "Key Skills: - Experience in Machine Learning, Deep Leaning, NLP, Python, SQL, Web Scraping Good knowledge in computer subjects and ability to update\n",
    "Experience in Machine Learning, Deep Learning, NLP, Python, SQL, Web Crawling, HTML,CSS.- Exprience - Less than 1 year monthsCompany Details \n",
    "company - RNT.AI Technology Solution\n",
    "description - Text classification using Machine learning Algorithms with python. \n",
    "Develop custom data models and algorithms to apply to dataset\n",
    "Experience with Python packages like Pandas, Scikit-learn, Tensor Flow, Numpy, Matplotliv, NLTK.\n",
    "\"\"\"\n",
    "\n",
    "template = \"\"\"\n",
    "<<SYS>>\n",
    "You are an assistant that helps hiring manager to make decisions in the screening process. You have access to the resumes of two applicants:\n",
    "{context}\n",
    "<</SYS>>\n",
    "\n",
    "[INST]\n",
    "{query}\n",
    "[/INST]\n",
    "\"\"\"\n",
    "\n",
    "prompt = ChatPromptTemplate.from_template(template)"
   ]
  },
  {
   "cell_type": "code",
   "execution_count": 9,
   "metadata": {},
   "outputs": [],
   "source": [
    "from langchain.embeddings import HuggingFaceEmbeddings\n",
    "\n",
    "embeddings_model_name = \"sentence-transformers/all-MiniLM-L6-v2\"\n",
    "embeddings = HuggingFaceEmbeddings(model_name=embeddings_model_name)"
   ]
  },
  {
   "cell_type": "code",
   "execution_count": 10,
   "metadata": {},
   "outputs": [],
   "source": [
    "vectorstore = FAISS.from_texts(\n",
    "    [doc1, doc2], embedding=embeddings\n",
    ")\n",
    "retriever = vectorstore.as_retriever()"
   ]
  },
  {
   "cell_type": "code",
   "execution_count": 15,
   "metadata": {},
   "outputs": [],
   "source": [
    "def format_docs(docs):\n",
    "    return \"\\n\\n\".join(doc.page_content for doc in docs)\n",
    "\n",
    "query = \"\"\"\n",
    "Find the candidates that has more than 8 years of experience.\n",
    "\"\"\"\n",
    "\n",
    "rag_chain = (\n",
    "    {\"context\": retriever | format_docs, \"query\": RunnablePassthrough()}\n",
    "    | prompt\n",
    "    | llm\n",
    "    | StrOutputParser()\n",
    ")"
   ]
  },
  {
   "cell_type": "code",
   "execution_count": 16,
   "metadata": {},
   "outputs": [
    {
     "name": "stderr",
     "output_type": "stream",
     "text": [
      "Setting `pad_token_id` to `eos_token_id`:2 for open-end generation.\n"
     ]
    },
    {
     "name": "stdout",
     "output_type": "stream",
     "text": [
      "Based on the information provided in the resumes, the following candidates have more than 8 years of experience:\n",
      "\n",
      "1. Applicant number 1: The candidate has experience in Deep Learning, Control System Design, Programming in Python, Electric Machinery, Web Development, Analytics, and Technical Activities for 4 years. Additionally, they have experience in Data Analysis and SQL for less than 1 year. Therefore, their total experience is more than 8 years.\n",
      "2. Applicant number 2: The candidate has experience as an Operations Manager for less than 1 year. However, they have experience in Operations Management for more than 8 years, as they mention that they have been working in the field for over 10 years.\n",
      "\n",
      "Therefore, the two candidates with more than 8 years of experience are:\n",
      "\n",
      "1. Applicant number 1\n",
      "2. Applicant number 2\n"
     ]
    }
   ],
   "source": [
    "response = rag_chain.invoke(query)\n",
    "print(response)"
   ]
  }
 ],
 "metadata": {
  "kernelspec": {
   "display_name": "Python 3",
   "language": "python",
   "name": "python3"
  },
  "language_info": {
   "codemirror_mode": {
    "name": "ipython",
    "version": 3
   },
   "file_extension": ".py",
   "mimetype": "text/x-python",
   "name": "python",
   "nbconvert_exporter": "python",
   "pygments_lexer": "ipython3",
   "version": "3.11.0"
  }
 },
 "nbformat": 4,
 "nbformat_minor": 2
}
