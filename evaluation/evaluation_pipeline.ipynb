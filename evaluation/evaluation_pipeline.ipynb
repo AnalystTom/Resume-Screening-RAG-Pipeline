{
 "cells": [
  {
   "cell_type": "code",
   "execution_count": 2,
   "metadata": {},
   "outputs": [],
   "source": [
    "import pandas as pd\n",
    "from langchain_openai import ChatOpenAI\n",
    "from ragas import evaluate\n",
    "import httpx\n",
    "\n",
    "from ragas.metrics import (\n",
    "  context_precision,\n",
    "  answer_relevancy,\n",
    "  answer_correctness,\n",
    "  context_recall,\n",
    ")"
   ]
  },
  {
   "cell_type": "code",
   "execution_count": null,
   "metadata": {},
   "outputs": [],
   "source": [
    "DATA_PATH = \"./data/cleaned_resume.csv\"\n",
    "FAISS_PATH = \"./vectorstore\"\n",
    "RAG_K_THRESHOLD = 2\n",
    "EMBEDDING_MODEL = \"sentence-transformers/all-MiniLM-L6-v2\"\n",
    "LLM_MODEL = \"gpt-35-turbo\"\n",
    "OPENAI_ENDPOINT = \"https://aalto-openai-apigw.azure-api.net\"\n",
    "OPENAI_KEY = \"\""
   ]
  },
  {
   "cell_type": "code",
   "execution_count": null,
   "metadata": {},
   "outputs": [],
   "source": [
    "test_df = pd.read_csv(\"../data/main-data/synthetic-resumes-cp/\")"
   ]
  },
  {
   "cell_type": "code",
   "execution_count": null,
   "metadata": {},
   "outputs": [],
   "source": [
    "def update_base_url(request: httpx.Request):\n",
    "  if request.url.path == \"/chat/completions\":\n",
    "    request.url = request.url.copy_with(path=\"/v1/chat\")\n",
    "\n",
    "llm = ChatOpenAI(\n",
    "    default_headers={\"Ocp-Apim-Subscription-Key\": OPENAI_KEY},\n",
    "    base_url=OPENAI_ENDPOINT,\n",
    "    api_key=False,\n",
    "    http_client=httpx.Client(\n",
    "      event_hooks={\n",
    "        \"request\": [update_base_url],\n",
    "    }),\n",
    "  )"
   ]
  },
  {
   "cell_type": "code",
   "execution_count": null,
   "metadata": {},
   "outputs": [],
   "source": [
    "result_df = evaluate(\n",
    "  test_df,\n",
    "  llm=llm,\n",
    "  metrics=[\n",
    "    answer_correctness,\n",
    "    answer_relevancy,\n",
    "    context_recall,\n",
    "    context_precision,\n",
    "]).to_pandas()\n",
    "\n",
    "result_df.to_csv(\"./data/evaluation_result.csv\", index=False)"
   ]
  }
 ],
 "metadata": {
  "kernelspec": {
   "display_name": "Python 3",
   "language": "python",
   "name": "python3"
  },
  "language_info": {
   "codemirror_mode": {
    "name": "ipython",
    "version": 3
   },
   "file_extension": ".py",
   "mimetype": "text/x-python",
   "name": "python",
   "nbconvert_exporter": "python",
   "pygments_lexer": "ipython3",
   "version": "3.11.0"
  }
 },
 "nbformat": 4,
 "nbformat_minor": 2
}
