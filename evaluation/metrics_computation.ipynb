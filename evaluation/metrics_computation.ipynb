{
 "cells": [
  {
   "cell_type": "code",
   "execution_count": 90,
   "metadata": {},
   "outputs": [],
   "source": [
    "import numpy as np\n",
    "import pandas as pd\n",
    "import re"
   ]
  },
  {
   "cell_type": "code",
   "execution_count": 91,
   "metadata": {},
   "outputs": [],
   "source": [
    "test_result = []\n",
    "for i in range(5):\n",
    "  test_res_i = pd.read_csv(f\"../data/main-data/gpt35-normalrag/evaluation-results/evaluation-result-{i+1}.csv\")\n",
    "  test_result.append(test_res_i)\n",
    "\n",
    "test_result_df = pd.concat(test_result).reset_index(drop=True)\n",
    "# test_result_df.to_csv(\"../data/main-data/gpt35-normalrag/evaluation-results.csv\", index=False)"
   ]
  },
  {
   "cell_type": "code",
   "execution_count": 92,
   "metadata": {},
   "outputs": [],
   "source": [
    "avg_context_precision = np.mean(test_result_df[\"context_precision\"])\n",
    "avg_context_recall = np.mean(test_result_df[\"context_recall\"])\n",
    "avg_faithfulness = np.nanmean(test_result_df[\"faithfulness\"])\n",
    "avg_answer_similarity = np.mean(test_result_df[\"answer_similarity\"])"
   ]
  },
  {
   "cell_type": "code",
   "execution_count": 93,
   "metadata": {},
   "outputs": [
    {
     "name": "stdout",
     "output_type": "stream",
     "text": [
      "Context precision: 0.7867132112664911\n",
      "Context recall: 0.8366171860593767\n",
      "Faithfulness: 0.8868767785434454\n",
      "Answer similarity: 0.6963932059591953\n"
     ]
    }
   ],
   "source": [
    "print(f\"Context precision: {avg_context_precision}\\nContext recall: {avg_context_recall}\\nFaithfulness: {avg_faithfulness}\\nAnswer similarity: {avg_answer_similarity}\")"
   ]
  },
  {
   "cell_type": "code",
   "execution_count": 81,
   "metadata": {},
   "outputs": [
    {
     "name": "stdout",
     "output_type": "stream",
     "text": [
      "Context precision: 0.768618617227063\n",
      "Context recall: 0.8366632026591785\n",
      "Faithfulness: 0.8462636787366434\n",
      "Answer similarity: 0.6942521293086188\n"
     ]
    }
   ],
   "source": [
    "print(f\"Context precision: {avg_context_precision}\\nContext recall: {avg_context_recall}\\nFaithfulness: {avg_faithfulness}\\nAnswer similarity: {avg_answer_similarity}\")"
   ]
  },
  {
   "cell_type": "code",
   "execution_count": 76,
   "metadata": {},
   "outputs": [
    {
     "name": "stdout",
     "output_type": "stream",
     "text": [
      "Context precision: 0.7926721455761143\n",
      "Context recall: 0.8434011659915275\n",
      "Faithfulness: 0.9449809376974733\n",
      "Answer similarity: 0.7328847920164296\n"
     ]
    }
   ],
   "source": [
    "print(f\"Context precision: {avg_context_precision}\\nContext recall: {avg_context_recall}\\nFaithfulness: {avg_faithfulness}\\nAnswer similarity: {avg_answer_similarity}\")"
   ]
  }
 ],
 "metadata": {
  "kernelspec": {
   "display_name": "Python 3",
   "language": "python",
   "name": "python3"
  },
  "language_info": {
   "codemirror_mode": {
    "name": "ipython",
    "version": 3
   },
   "file_extension": ".py",
   "mimetype": "text/x-python",
   "name": "python",
   "nbconvert_exporter": "python",
   "pygments_lexer": "ipython3",
   "version": "3.11.0"
  }
 },
 "nbformat": 4,
 "nbformat_minor": 2
}
